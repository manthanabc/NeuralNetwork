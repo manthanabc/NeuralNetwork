{
  "nbformat": 4,
  "nbformat_minor": 0,
  "metadata": {
    "kernelspec": {
      "display_name": "Python 3",
      "language": "python",
      "name": "python3"
    },
    "language_info": {
      "codemirror_mode": {
        "name": "ipython",
        "version": 3
      },
      "file_extension": ".py",
      "mimetype": "text/x-python",
      "name": "python",
      "nbconvert_exporter": "python",
      "pygments_lexer": "ipython3",
      "version": "3.8.3"
    },
    "colab": {
      "name": "neuralNetwork.ipynb",
      "provenance": [],
      "collapsed_sections": [],
      "toc_visible": true,
      "include_colab_link": true
    }
  },
  "cells": [
    {
      "cell_type": "markdown",
      "metadata": {
        "id": "view-in-github",
        "colab_type": "text"
      },
      "source": [
        "<a href=\"https://colab.research.google.com/github/manthanabc/NeuralNetwork/blob/main/neuralNetwork.ipynb\" target=\"_parent\"><img src=\"https://colab.research.google.com/assets/colab-badge.svg\" alt=\"Open In Colab\"/></a>"
      ]
    },
    {
      "cell_type": "markdown",
      "metadata": {
        "id": "cJguOvrs5JEc"
      },
      "source": [
        "#neural network\n",
        "\n",
        "\n",
        "weightsoflayer1=[[w11 w21 w31],\n",
        "                 [w12 w22 w32],\n",
        "                 [w13 w23 w33]]\n",
        "                 \n",
        "   w(weight)1(neuron no)(neuron no of neuron its conneted)\n",
        "\n"
      ]
    },
    {
      "cell_type": "code",
      "metadata": {
        "id": "Vys5KzY65JEe",
        "outputId": "624f4ad3-3e7a-4028-930a-c81ef904e546",
        "colab": {
          "base_uri": "https://localhost:8080/",
          "height": 34
        }
      },
      "source": [
        "import matplotlib.pyplot as plt\n",
        "import numpy as np\n",
        "import math\n",
        "import sys\n",
        "print(\"sucessfully imported modules\")"
      ],
      "execution_count": 2,
      "outputs": [
        {
          "output_type": "stream",
          "text": [
            "sucessfully imported modules\n"
          ],
          "name": "stdout"
        }
      ]
    },
    {
      "cell_type": "code",
      "metadata": {
        "id": "ipWNDfYI5YuZ"
      },
      "source": [
        "class neuralNetwork:\n",
        "  def __init__(self,inp,hidden,out):\n",
        "    self.winp_hidden=np.random.rand(hidden,inp)-0.5\n",
        "    self.whidden_out=np.random.rand(out,hidden)-0.5\n",
        "    \n",
        "    pass\n",
        "\n",
        "  def train(self,inp,out):\n",
        "    pout=self.feed_forward(inp)\n",
        "    out_error=(out-pout)*(out-pout)\n",
        "    print(out_error)\n",
        "    pass\n",
        "\n",
        "  def feed_forward(self,inp):\n",
        "    self.vhidden=self.winp_hidden.dot(inp)\n",
        "    self.vout=self.whidden_out.dot(self.vhidden)\n",
        "    return self.vout\n",
        "    pass\n"
      ],
      "execution_count": 10,
      "outputs": []
    },
    {
      "cell_type": "code",
      "metadata": {
        "id": "ONALuDiu6X7J",
        "outputId": "7ca5a839-5b9b-439f-b18e-9e889a458dd0",
        "colab": {
          "base_uri": "https://localhost:8080/",
          "height": 51
        }
      },
      "source": [
        "n=neuralNetwork(2,3,2)\n",
        "out=n.feed_forward(np.array([[0.34],[0.43]]))\n",
        "n.train(np.array([[0.34],[0.43]]),np.array([[0.34],[0.43]]))"
      ],
      "execution_count": 9,
      "outputs": [
        {
          "output_type": "stream",
          "text": [
            "[[0.21061785]\n",
            " [0.19411659]]\n"
          ],
          "name": "stdout"
        }
      ]
    },
    {
      "cell_type": "code",
      "metadata": {
        "id": "RVwzHQIM9QmZ"
      },
      "source": [
        ""
      ],
      "execution_count": null,
      "outputs": []
    }
  ]
}